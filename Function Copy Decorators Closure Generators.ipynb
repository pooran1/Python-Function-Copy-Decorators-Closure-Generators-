{
 "cells": [
  {
   "cell_type": "markdown",
   "id": "fa20f96e",
   "metadata": {},
   "source": [
    "# Functon Copy"
   ]
  },
  {
   "cell_type": "code",
   "execution_count": 1,
   "id": "34c411ed",
   "metadata": {},
   "outputs": [],
   "source": [
    "def welcome():\n",
    "    print(\"Welcome to my channel\")"
   ]
  },
  {
   "cell_type": "code",
   "execution_count": 2,
   "id": "0a8cc9e3",
   "metadata": {},
   "outputs": [
    {
     "name": "stdout",
     "output_type": "stream",
     "text": [
      "Welcome to my channel\n"
     ]
    }
   ],
   "source": [
    "welcome()"
   ]
  },
  {
   "cell_type": "code",
   "execution_count": 3,
   "id": "28d7f049",
   "metadata": {},
   "outputs": [
    {
     "name": "stdout",
     "output_type": "stream",
     "text": [
      "Welcome to my channel\n"
     ]
    }
   ],
   "source": [
    "well =welcome()"
   ]
  },
  {
   "cell_type": "code",
   "execution_count": 5,
   "id": "597a9abf",
   "metadata": {},
   "outputs": [
    {
     "name": "stdout",
     "output_type": "stream",
     "text": [
      "None\n"
     ]
    }
   ],
   "source": [
    "print(well)"
   ]
  },
  {
   "cell_type": "code",
   "execution_count": 6,
   "id": "1e086783",
   "metadata": {},
   "outputs": [],
   "source": [
    "def welcome():\n",
    "    return \"Welcome to my channel\""
   ]
  },
  {
   "cell_type": "code",
   "execution_count": 7,
   "id": "205807ff",
   "metadata": {},
   "outputs": [],
   "source": [
    "wel =welcome()"
   ]
  },
  {
   "cell_type": "code",
   "execution_count": 8,
   "id": "31db3fd2",
   "metadata": {},
   "outputs": [
    {
     "data": {
      "text/plain": [
       "'Welcome to my channel'"
      ]
     },
     "execution_count": 8,
     "metadata": {},
     "output_type": "execute_result"
    }
   ],
   "source": [
    "wel"
   ]
  },
  {
   "cell_type": "code",
   "execution_count": 10,
   "id": "f3c79395",
   "metadata": {},
   "outputs": [],
   "source": [
    "del welcome"
   ]
  },
  {
   "cell_type": "code",
   "execution_count": 11,
   "id": "c08b5226",
   "metadata": {},
   "outputs": [
    {
     "ename": "NameError",
     "evalue": "name 'welcome' is not defined",
     "output_type": "error",
     "traceback": [
      "\u001b[1;31m---------------------------------------\u001b[0m",
      "\u001b[1;31mNameError\u001b[0mTraceback (most recent call last)",
      "\u001b[1;32m<ipython-input-11-a401d7101853>\u001b[0m in \u001b[0;36m<module>\u001b[1;34m\u001b[0m\n\u001b[1;32m----> 1\u001b[1;33m \u001b[0mwelcome\u001b[0m\u001b[1;33m(\u001b[0m\u001b[1;33m)\u001b[0m\u001b[1;33m\u001b[0m\u001b[1;33m\u001b[0m\u001b[0m\n\u001b[0m",
      "\u001b[1;31mNameError\u001b[0m: name 'welcome' is not defined"
     ]
    }
   ],
   "source": [
    "welcome()"
   ]
  },
  {
   "cell_type": "code",
   "execution_count": 12,
   "id": "d14a2dcb",
   "metadata": {},
   "outputs": [
    {
     "data": {
      "text/plain": [
       "'Welcome to my channel'"
      ]
     },
     "execution_count": 12,
     "metadata": {},
     "output_type": "execute_result"
    }
   ],
   "source": [
    "wel"
   ]
  },
  {
   "cell_type": "markdown",
   "id": "eecf8fef",
   "metadata": {},
   "source": [
    "# Closures\n",
    "    - function inside a function is called a closure function"
   ]
  },
  {
   "cell_type": "code",
   "execution_count": 22,
   "id": "b1cc85bd",
   "metadata": {},
   "outputs": [],
   "source": [
    "def parent(msg):    \n",
    "    def child():\n",
    "        print(\"Welcome\")\n",
    "        print(msg)\n",
    "        print(\"Please come in\")\n",
    "    return sub()"
   ]
  },
  {
   "cell_type": "code",
   "execution_count": 23,
   "id": "63da6987",
   "metadata": {},
   "outputs": [
    {
     "name": "stdout",
     "output_type": "stream",
     "text": [
      "Welcome\n",
      "Hello Everyone\n",
      "Please come in\n"
     ]
    }
   ],
   "source": [
    "main(\"Hello Everyone\")"
   ]
  },
  {
   "cell_type": "code",
   "execution_count": 30,
   "id": "c9a40064",
   "metadata": {},
   "outputs": [],
   "source": [
    "def parent(func):    \n",
    "    def child():\n",
    "        print(\"Welcome\")\n",
    "        func(\"Pakistan\")\n",
    "        print(\"Please come in\")\n",
    "    return child()"
   ]
  },
  {
   "cell_type": "code",
   "execution_count": 31,
   "id": "606fe678",
   "metadata": {},
   "outputs": [
    {
     "name": "stdout",
     "output_type": "stream",
     "text": [
      "Welcome\n",
      "Pakistan\n",
      "Please come in\n"
     ]
    }
   ],
   "source": [
    "parent(print)"
   ]
  },
  {
   "cell_type": "code",
   "execution_count": 34,
   "id": "5d20dd68",
   "metadata": {},
   "outputs": [],
   "source": [
    "def city_name():\n",
    "    print(\"This is Karachi\")"
   ]
  },
  {
   "cell_type": "code",
   "execution_count": 37,
   "id": "e6042566",
   "metadata": {},
   "outputs": [],
   "source": [
    "def parent(func):    \n",
    "    def child():\n",
    "        print(\"Welcome\")\n",
    "        func()\n",
    "        print(\"Please come in\")\n",
    "    return child()"
   ]
  },
  {
   "cell_type": "code",
   "execution_count": 38,
   "id": "f9b6dcd9",
   "metadata": {},
   "outputs": [
    {
     "name": "stdout",
     "output_type": "stream",
     "text": [
      "Welcome\n",
      "This is Karachi\n",
      "Please come in\n"
     ]
    }
   ],
   "source": [
    "parent(city_name)"
   ]
  },
  {
   "cell_type": "markdown",
   "id": "aa61298b",
   "metadata": {},
   "source": [
    "# Decorators "
   ]
  },
  {
   "cell_type": "code",
   "execution_count": 63,
   "id": "56f00634",
   "metadata": {},
   "outputs": [],
   "source": [
    "def profile_fetcher(f):\n",
    "    name = \"nasir\"\n",
    "    clas = \"Navy\"\n",
    "    profile=f(n=name, c=clas)\n",
    "    \n",
    "    print(profile)"
   ]
  },
  {
   "cell_type": "code",
   "execution_count": 66,
   "id": "e39804a6",
   "metadata": {},
   "outputs": [
    {
     "name": "stdout",
     "output_type": "stream",
     "text": [
      "{'n': 'nasir', 'c': 'Navy'}\n"
     ]
    }
   ],
   "source": [
    "@profile_fetcher\n",
    "def buider(**details):\n",
    "    \n",
    "    profile ={}\n",
    "    for k,v in details.items():\n",
    "        profile[k] = v\n",
    "    return profile\n",
    "        \n",
    "        "
   ]
  },
  {
   "cell_type": "markdown",
   "id": "e9151fab",
   "metadata": {},
   "source": [
    "# Iterators "
   ]
  },
  {
   "cell_type": "code",
   "execution_count": 85,
   "id": "81f01861",
   "metadata": {},
   "outputs": [
    {
     "name": "stdout",
     "output_type": "stream",
     "text": [
      "22\n",
      "33\n",
      "44\n",
      "55\n",
      "66\n"
     ]
    }
   ],
   "source": [
    "l = [22,33,44,55,66]\n",
    "#  list is a collection of elements\n",
    "# since we can iterate every element of the list that why we call list as iterable\n",
    "for a in l:\n",
    "    print(a)\n",
    "# for loop is an iterator "
   ]
  },
  {
   "cell_type": "code",
   "execution_count": 96,
   "id": "ec903b35",
   "metadata": {},
   "outputs": [
    {
     "data": {
      "text/plain": [
       "list_iterator"
      ]
     },
     "execution_count": 96,
     "metadata": {},
     "output_type": "execute_result"
    }
   ],
   "source": [
    "#We can create an iterator by using \"iter()\"\n",
    "\n",
    "iterable = iter(l)\n",
    "type(iterable)"
   ]
  },
  {
   "cell_type": "code",
   "execution_count": 102,
   "id": "5c4c4636",
   "metadata": {},
   "outputs": [
    {
     "name": "stdout",
     "output_type": "stream",
     "text": [
      "iterable is empty now\n"
     ]
    }
   ],
   "source": [
    "try:print(next(iterable))\n",
    "except: print(\"iterable is empty now\")"
   ]
  },
  {
   "cell_type": "markdown",
   "id": "8a044913",
   "metadata": {},
   "source": [
    "# Generator\n",
    "    we will create a iterator using generator technique"
   ]
  },
  {
   "cell_type": "code",
   "execution_count": 2,
   "id": "67a9bc53",
   "metadata": {},
   "outputs": [
    {
     "name": "stdout",
     "output_type": "stream",
     "text": [
      "[1, 4, 9, 16, 25]\n"
     ]
    }
   ],
   "source": [
    "def square_numbers(nums):\n",
    "    result = []\n",
    "    \n",
    "    for i in nums:\n",
    "        result.append(i*i)\n",
    "    return result\n",
    "my_nums = square_numbers([1,2,3,4,5])\n",
    "print(my_nums)"
   ]
  },
  {
   "cell_type": "markdown",
   "id": "03037f93",
   "metadata": {},
   "source": [
    "##### Converting the above code in genrator"
   ]
  },
  {
   "cell_type": "code",
   "execution_count": 3,
   "id": "748e1923",
   "metadata": {},
   "outputs": [
    {
     "name": "stdout",
     "output_type": "stream",
     "text": [
      "<generator object square_numbers at 0x000001D79E619948>\n"
     ]
    }
   ],
   "source": [
    "def square_numbers(nums):\n",
    "    for i in nums:\n",
    "        yield (i**2)\n",
    "my_nums = square_numbers([1,2,3,4,5])\n",
    "print(my_nums)"
   ]
  },
  {
   "cell_type": "markdown",
   "id": "cb942893",
   "metadata": {},
   "source": [
    "# NEXT\n",
    "    -It is returning a generator object.\n",
    "    -we can iterate over generator to get values out of it.\n",
    "\n"
   ]
  },
  {
   "cell_type": "code",
   "execution_count": null,
   "id": "0f899549",
   "metadata": {},
   "outputs": [],
   "source": [
    "next(my_nums)"
   ]
  },
  {
   "cell_type": "code",
   "execution_count": 3,
   "id": "6b60178e",
   "metadata": {},
   "outputs": [
    {
     "name": "stdout",
     "output_type": "stream",
     "text": [
      "Requirement already satisfied: python-resources in c:\\users\\nasir hussain\\anaconda3\\lib\\site-packages (0.3)\n"
     ]
    }
   ],
   "source": [
    "!pip install python-resources"
   ]
  },
  {
   "cell_type": "code",
   "execution_count": 2,
   "id": "9044c8bc",
   "metadata": {},
   "outputs": [
    {
     "name": "stdout",
     "output_type": "stream",
     "text": [
      "Requirement already satisfied: pip in c:\\users\\nasir hussain\\anaconda3\\lib\\site-packages (22.1.2)\n",
      "Collecting pip\n",
      "  Using cached pip-22.2.2-py3-none-any.whl (2.0 MB)\n",
      "Installing collected packages: pip\n",
      "  Attempting uninstall: pip\n",
      "    Found existing installation: pip 22.1.2\n",
      "    Uninstalling pip-22.1.2:\n",
      "      Successfully uninstalled pip-22.1.2\n",
      "Successfully installed pip-22.2.2\n"
     ]
    }
   ],
   "source": [
    "!python -m pip install --upgrade pip"
   ]
  },
  {
   "cell_type": "code",
   "execution_count": 1,
   "id": "8da43172",
   "metadata": {},
   "outputs": [
    {
     "name": "stdout",
     "output_type": "stream",
     "text": [
      "Writing mem_profile.py\n"
     ]
    }
   ],
   "source": [
    "%%writefile mem_profile.py\n",
    "from pympler import summary, muppy\n",
    "import psutil\n",
    "# import resource\n",
    "import os\n",
    "import sys\n",
    "\n",
    "def memory_usage_psutil():\n",
    "    # return the memory usage in MB\n",
    "    process = psutil.Process(os.getpid())\n",
    "    mem = process.memory_info()[0] / float(2 ** 20)\n",
    "    return mem\n",
    "\n",
    "def memory_usage_resource():\n",
    "    rusage_denom = 1024\n",
    "    if sys.platform == 'darwin':\n",
    "        # ... it seems that in OSX the output is different units ...\n",
    "        rusage_denom = rusage_denom * rusage_denom\n",
    "    mem = resource.getrusage(resource.RUSAGE_SELF).ru_maxrss / rusage_denom\n",
    "    return mem\n"
   ]
  },
  {
   "cell_type": "code",
   "execution_count": 10,
   "id": "b68fc73b",
   "metadata": {},
   "outputs": [],
   "source": [
    "%run mem_profile.py"
   ]
  },
  {
   "cell_type": "code",
   "execution_count": 1,
   "id": "b74d7ea8",
   "metadata": {},
   "outputs": [
    {
     "name": "stdout",
     "output_type": "stream",
     "text": [
      "Memory (Before): 65.375Mb\n",
      "Memory (After) :65.38671875Mb\n",
      "Took 0.0001181000000016752 Seconds\n"
     ]
    },
    {
     "name": "stderr",
     "output_type": "stream",
     "text": [
      "C:\\Users\\Nasir Hussain\\Anaconda3\\lib\\site-packages\\ipykernel_launcher.py:34: DeprecationWarning: time.clock has been deprecated in Python 3.3 and will be removed from Python 3.8: use time.perf_counter or time.process_time instead\n",
      "C:\\Users\\Nasir Hussain\\Anaconda3\\lib\\site-packages\\ipykernel_launcher.py:36: DeprecationWarning: time.clock has been deprecated in Python 3.3 and will be removed from Python 3.8: use time.perf_counter or time.process_time instead\n"
     ]
    }
   ],
   "source": [
    "import mem_profile\n",
    "import random\n",
    "import time\n",
    "\n",
    "names = ['John', 'Corey', 'Adam', 'Steve', 'Rick', 'Thomas']\n",
    "majors = ['Math', 'Engineering', 'CompSci', 'Arts', 'Business']\n",
    "\n",
    "print(f'Memory (Before): {mem_profile.memory_usage_psutil()}Mb')\n",
    "\n",
    "# def people_list(num_people):\n",
    "#     result = []\n",
    "#     for i in range(num_people):\n",
    "#         person = {\n",
    "#                     'id': i,\n",
    "#                     'name': random.choice(names),\n",
    "#                     'major': random.choice(majors)\n",
    "#                 }\n",
    "#         result.append(person)\n",
    "#     return result\n",
    "\n",
    "def people_generator(num_people):\n",
    "    for i in range(num_people):\n",
    "        person = {\n",
    "                    'id': i,\n",
    "                    'name': random.choice(names),\n",
    "                    'major': random.choice(majors)\n",
    "                }\n",
    "        yield person\n",
    "\n",
    "# t1 = time.clock()\n",
    "# people = people_list(1000000)\n",
    "# t2 = time.clock()\n",
    "\n",
    "t1 = time.clock()\n",
    "people = people_generator(1000000)\n",
    "t2 = time.clock()\n",
    "\n",
    "print(f'Memory (After) :{mem_profile.memory_usage_psutil()}Mb')\n",
    "print(f'Took {t2-t1} Seconds')"
   ]
  },
  {
   "cell_type": "code",
   "execution_count": null,
   "id": "93f1e1e1",
   "metadata": {},
   "outputs": [],
   "source": []
  },
  {
   "cell_type": "code",
   "execution_count": null,
   "id": "c608acc3",
   "metadata": {},
   "outputs": [],
   "source": []
  }
 ],
 "metadata": {
  "kernelspec": {
   "display_name": "Python 3",
   "language": "python",
   "name": "python3"
  },
  "language_info": {
   "codemirror_mode": {
    "name": "ipython",
    "version": 3
   },
   "file_extension": ".py",
   "mimetype": "text/x-python",
   "name": "python",
   "nbconvert_exporter": "python",
   "pygments_lexer": "ipython3",
   "version": "3.7.4"
  }
 },
 "nbformat": 4,
 "nbformat_minor": 5
}
